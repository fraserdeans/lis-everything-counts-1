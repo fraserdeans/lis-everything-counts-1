{
 "cells": [
  {
   "cell_type": "markdown",
   "id": "dac15920",
   "metadata": {},
   "source": [
    "# Everything Counts Assignment 1\n",
    "\n",
    "This is my assignment."
   ]
  },
  {
   "cell_type": "code",
   "execution_count": null,
   "id": "5a7e36b0",
   "metadata": {},
   "outputs": [],
   "source": [
    "print('Hello World!')"
   ]
  }
 ],
 "metadata": {
  "language_info": {
   "name": "python"
  }
 },
 "nbformat": 4,
 "nbformat_minor": 5
}
